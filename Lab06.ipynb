{
 "cells": [
  {
   "cell_type": "code",
   "execution_count": 2,
   "metadata": {},
   "outputs": [
    {
     "name": "stdout",
     "output_type": "stream",
     "text": [
      "DatasetDict({\n",
      "    train: Dataset({\n",
      "        features: ['text', 'label'],\n",
      "        num_rows: 25000\n",
      "    })\n",
      "    test: Dataset({\n",
      "        features: ['text', 'label'],\n",
      "        num_rows: 25000\n",
      "    })\n",
      "})\n"
     ]
    }
   ],
   "source": [
    "import os\n",
    "import torch\n",
    "from torchtext.data import get_tokenizer\n",
    "from torchtext.vocab import build_vocab_from_iterator\n",
    "from torchtext import transforms as T\n",
    "from torch.utils.data import TensorDataset\n",
    "from datasets import Dataset, DatasetDict\n",
    "\n",
    "def read_data(path='./aclImdb', is_train=True):\n",
    "    reviews, labels = [], []\n",
    "    \n",
    "    for label in ['pos', 'neg']:\n",
    "        folder_name = os.path.join(path, 'train' if is_train else 'test', label)\n",
    "        for filename in os.listdir(folder_name):\n",
    "            with open(os.path.join(folder_name, filename), mode='r', encoding='utf-8') as f:\n",
    "                reviews.append(f.read())\n",
    "                labels.append(1 if label == 'pos' else 0)\n",
    "    return reviews, labels\n",
    "\n",
    "def convert_to_datasets_format(reviews, labels):\n",
    "    return [{'text': review, 'label': label} for review, label in zip(reviews, labels)]\n",
    "\n",
    "def create_datasets(path='./aclImdb'):\n",
    "    reviews_train, labels_train = read_data(path, is_train=True)\n",
    "    reviews_test, labels_test = read_data(path, is_train=False)\n",
    "    \n",
    "    train_data = convert_to_datasets_format(reviews_train, labels_train)\n",
    "    test_data = convert_to_datasets_format(reviews_test, labels_test)\n",
    "    \n",
    "    train_dataset = Dataset.from_dict({'text': [data['text'] for data in train_data], 'label': [data['label'] for data in train_data]})\n",
    "    test_dataset = Dataset.from_dict({'text': [data['text'] for data in test_data], 'label': [data['label'] for data in test_data]})\n",
    "    \n",
    "    return DatasetDict({'train': train_dataset, 'test': test_dataset})\n",
    "\n",
    "dataset = create_datasets()\n",
    "# tokenizer = get_tokenizer('basic_english')\n",
    "print(dataset)\n"
   ]
  },
  {
   "cell_type": "markdown",
   "metadata": {},
   "source": [
    "```bash\n",
    "pip install transformers datasets\n",
    "```"
   ]
  },
  {
   "cell_type": "code",
   "execution_count": 3,
   "metadata": {},
   "outputs": [
    {
     "name": "stderr",
     "output_type": "stream",
     "text": [
      "Map: 100%|██████████| 25000/25000 [01:25<00:00, 291.74 examples/s]\n",
      "Map: 100%|██████████| 25000/25000 [01:22<00:00, 302.73 examples/s]"
     ]
    },
    {
     "name": "stdout",
     "output_type": "stream",
     "text": [
      "DatasetDict({\n",
      "    train: Dataset({\n",
      "        features: ['text', 'label', 'input_ids', 'token_type_ids', 'attention_mask'],\n",
      "        num_rows: 25000\n",
      "    })\n",
      "    test: Dataset({\n",
      "        features: ['text', 'label', 'input_ids', 'token_type_ids', 'attention_mask'],\n",
      "        num_rows: 25000\n",
      "    })\n",
      "})\n"
     ]
    },
    {
     "name": "stderr",
     "output_type": "stream",
     "text": [
      "\n"
     ]
    }
   ],
   "source": [
    "from transformers import BertTokenizer\n",
    "\n",
    "# 加载预训练的BERT分词器\n",
    "tokenizer = BertTokenizer.from_pretrained('bert-base-uncased')\n",
    "\n",
    "# 定义一个函数，将文本数据转换为BERT模型的输入格式\n",
    "def tokenize_function(examples):\n",
    "    return tokenizer(examples['text'], padding=\"max_length\", truncation=True)\n",
    "\n",
    "# 对数据集进行分词处理\n",
    "tokenized_datasets = dataset.map(tokenize_function, batched=True)\n",
    "print(tokenized_datasets)"
   ]
  },
  {
   "cell_type": "code",
   "execution_count": 4,
   "metadata": {},
   "outputs": [
    {
     "name": "stderr",
     "output_type": "stream",
     "text": [
      "d:\\miniconda\\envs\\torchdata\\lib\\site-packages\\huggingface_hub\\file_download.py:157: UserWarning: `huggingface_hub` cache-system uses symlinks by default to efficiently store duplicated files but your machine does not support them in C:\\Users\\周\\.cache\\huggingface\\hub\\models--bert-base-uncased. Caching files will still work but in a degraded version that might require more space on your disk. This warning can be disabled by setting the `HF_HUB_DISABLE_SYMLINKS_WARNING` environment variable. For more details, see https://huggingface.co/docs/huggingface_hub/how-to-cache#limitations.\n",
      "To support symlinks on Windows, you either need to activate Developer Mode or to run Python as an administrator. In order to see activate developer mode, see this article: https://docs.microsoft.com/en-us/windows/apps/get-started/enable-your-device-for-development\n",
      "  warnings.warn(message)\n",
      "Some weights of BertForSequenceClassification were not initialized from the model checkpoint at bert-base-uncased and are newly initialized: ['classifier.bias', 'classifier.weight']\n",
      "You should probably TRAIN this model on a down-stream task to be able to use it for predictions and inference.\n",
      " 16%|█▌        | 1000/6250 [05:17<27:35,  3.17it/s]"
     ]
    },
    {
     "name": "stdout",
     "output_type": "stream",
     "text": [
      "{'loss': 0.3439, 'grad_norm': 11.336173057556152, 'learning_rate': 1.6800000000000002e-05, 'epoch': 0.32}\n"
     ]
    },
    {
     "name": "stderr",
     "output_type": "stream",
     "text": [
      "                                                   \n",
      " 16%|█▌        | 1000/6250 [09:57<27:35,  3.17it/s]"
     ]
    },
    {
     "name": "stdout",
     "output_type": "stream",
     "text": [
      "{'eval_loss': 0.3046461045742035, 'eval_accuracy': 0.92128, 'eval_runtime': 279.4043, 'eval_samples_per_second': 89.476, 'eval_steps_per_second': 11.185, 'epoch': 0.32}\n"
     ]
    },
    {
     "name": "stderr",
     "output_type": "stream",
     "text": [
      " 32%|███▏      | 2000/6250 [15:16<21:25,  3.31it/s]    "
     ]
    },
    {
     "name": "stdout",
     "output_type": "stream",
     "text": [
      "{'loss': 0.2808, 'grad_norm': 24.626283645629883, 'learning_rate': 1.3600000000000002e-05, 'epoch': 0.64}\n"
     ]
    },
    {
     "name": "stderr",
     "output_type": "stream",
     "text": [
      "                                                   \n",
      " 32%|███▏      | 2000/6250 [19:43<21:25,  3.31it/s]"
     ]
    },
    {
     "name": "stdout",
     "output_type": "stream",
     "text": [
      "{'eval_loss': 0.2343919575214386, 'eval_accuracy': 0.9298, 'eval_runtime': 267.2937, 'eval_samples_per_second': 93.53, 'eval_steps_per_second': 11.691, 'epoch': 0.64}\n"
     ]
    },
    {
     "name": "stderr",
     "output_type": "stream",
     "text": [
      " 48%|████▊     | 3000/6250 [24:47<16:22,  3.31it/s]   "
     ]
    },
    {
     "name": "stdout",
     "output_type": "stream",
     "text": [
      "{'loss': 0.2547, 'grad_norm': 6.008967399597168, 'learning_rate': 1.04e-05, 'epoch': 0.96}\n"
     ]
    },
    {
     "name": "stderr",
     "output_type": "stream",
     "text": [
      "                                                   \n",
      " 48%|████▊     | 3000/6250 [29:14<16:22,  3.31it/s]"
     ]
    },
    {
     "name": "stdout",
     "output_type": "stream",
     "text": [
      "{'eval_loss': 0.2258727103471756, 'eval_accuracy': 0.93056, 'eval_runtime': 267.2428, 'eval_samples_per_second': 93.548, 'eval_steps_per_second': 11.693, 'epoch': 0.96}\n"
     ]
    },
    {
     "name": "stderr",
     "output_type": "stream",
     "text": [
      " 64%|██████▍   | 4000/6250 [34:18<11:44,  3.19it/s]   "
     ]
    },
    {
     "name": "stdout",
     "output_type": "stream",
     "text": [
      "{'loss': 0.1754, 'grad_norm': 0.18547214567661285, 'learning_rate': 7.2000000000000005e-06, 'epoch': 1.28}\n"
     ]
    },
    {
     "name": "stderr",
     "output_type": "stream",
     "text": [
      "                                                   \n",
      " 64%|██████▍   | 4000/6250 [38:46<11:44,  3.19it/s]"
     ]
    },
    {
     "name": "stdout",
     "output_type": "stream",
     "text": [
      "{'eval_loss': 0.29743692278862, 'eval_accuracy': 0.93188, 'eval_runtime': 267.2871, 'eval_samples_per_second': 93.532, 'eval_steps_per_second': 11.692, 'epoch': 1.28}\n"
     ]
    },
    {
     "name": "stderr",
     "output_type": "stream",
     "text": [
      " 80%|████████  | 5000/6250 [43:49<06:17,  3.31it/s]   "
     ]
    },
    {
     "name": "stdout",
     "output_type": "stream",
     "text": [
      "{'loss': 0.1444, 'grad_norm': 0.2488885521888733, 'learning_rate': 4.000000000000001e-06, 'epoch': 1.6}\n"
     ]
    },
    {
     "name": "stderr",
     "output_type": "stream",
     "text": [
      "                                                   \n",
      " 80%|████████  | 5000/6250 [48:16<06:17,  3.31it/s]"
     ]
    },
    {
     "name": "stdout",
     "output_type": "stream",
     "text": [
      "{'eval_loss': 0.2862088978290558, 'eval_accuracy': 0.939, 'eval_runtime': 267.1552, 'eval_samples_per_second': 93.579, 'eval_steps_per_second': 11.697, 'epoch': 1.6}\n"
     ]
    },
    {
     "name": "stderr",
     "output_type": "stream",
     "text": [
      " 96%|█████████▌| 6000/6250 [53:19<01:15,  3.31it/s]   "
     ]
    },
    {
     "name": "stdout",
     "output_type": "stream",
     "text": [
      "{'loss': 0.1528, 'grad_norm': 0.07870084047317505, 'learning_rate': 8.000000000000001e-07, 'epoch': 1.92}\n"
     ]
    },
    {
     "name": "stderr",
     "output_type": "stream",
     "text": [
      "                                                   \n",
      " 96%|█████████▌| 6000/6250 [58:07<01:15,  3.31it/s]"
     ]
    },
    {
     "name": "stdout",
     "output_type": "stream",
     "text": [
      "{'eval_loss': 0.24999509751796722, 'eval_accuracy': 0.93972, 'eval_runtime': 287.3801, 'eval_samples_per_second': 86.993, 'eval_steps_per_second': 10.874, 'epoch': 1.92}\n"
     ]
    },
    {
     "name": "stderr",
     "output_type": "stream",
     "text": [
      "100%|██████████| 6250/6250 [59:28<00:00,  1.75it/s]  \n"
     ]
    },
    {
     "name": "stdout",
     "output_type": "stream",
     "text": [
      "{'train_runtime': 3568.023, 'train_samples_per_second': 14.013, 'train_steps_per_second': 1.752, 'train_loss': 0.221506455078125, 'epoch': 2.0}\n"
     ]
    },
    {
     "data": {
      "image/png": "[encoded data removed]",
      "text/plain": [
       "<Figure size 1200x600 with 2 Axes>"
      ]
     },
     "metadata": {},
     "output_type": "display_data"
    },
    {
     "name": "stderr",
     "output_type": "stream",
     "text": [
      "100%|██████████| 3125/3125 [04:34<00:00, 11.40it/s]"
     ]
    },
    {
     "name": "stdout",
     "output_type": "stream",
     "text": [
      "{'eval_loss': 0.2520195543766022, 'eval_accuracy': 0.94044, 'eval_runtime': 274.1489, 'eval_samples_per_second': 91.191, 'eval_steps_per_second': 11.399, 'epoch': 2.0}\n"
     ]
    },
    {
     "name": "stderr",
     "output_type": "stream",
     "text": [
      "\n"
     ]
    }
   ],
   "source": [
    "from transformers import BertForSequenceClassification, Trainer, TrainingArguments, TrainerCallback\n",
    "import matplotlib.pyplot as plt\n",
    "\n",
    "# 加载预训练的BERT模型，用于序列分类\n",
    "model = BertForSequenceClassification.from_pretrained('bert-base-uncased', num_labels=2)\n",
    "\n",
    "class LoggingCallback(TrainerCallback):\n",
    "    def __init__(self):\n",
    "        self.train_losses = []\n",
    "        self.eval_losses = []\n",
    "        self.eval_accuracies = []\n",
    "    \n",
    "    def on_log(self, args, state, control, logs=None, **kwargs):\n",
    "        \"\"\"自定义回调函数，用于在训练和评估过程中打印日志信息。\"\"\"\n",
    "        if 'loss' in logs:\n",
    "            self.train_losses.append(logs.get('loss', 'N/A'))\n",
    "\n",
    "        if 'eval_loss' in logs and 'eval_accuracy' in logs:\n",
    "            self.eval_losses.append(logs.get('eval_loss', 'N/A'))\n",
    "            self.eval_accuracies.append(logs.get('eval_accuracy', 'N/A'))\n",
    "\n",
    "def train_and_evaluate(model, tokenizer, train_data, eval_data):\n",
    "    logging_callback = LoggingCallback()\n",
    "\n",
    "    # 定义训练参数\n",
    "    training_args = TrainingArguments(\n",
    "        output_dir='./results',                  \n",
    "        eval_strategy=\"steps\",\n",
    "        eval_steps=1000,             \n",
    "        learning_rate=2e-5,                      \n",
    "        per_device_train_batch_size=8,           \n",
    "        per_device_eval_batch_size=8,            \n",
    "        num_train_epochs=2,                      \n",
    "        weight_decay=0.01,                       \n",
    "        save_steps=1000,                         \n",
    "        save_total_limit=2,                      \n",
    "        bf16=True,                               \n",
    "        logging_dir='./logs',\n",
    "        logging_strategy=\"steps\",                    \n",
    "        logging_steps=1000,\n",
    "        optim=\"adamw_torch\"                    \n",
    "    )\n",
    "\n",
    "\n",
    "    # 定义Trainer\n",
    "    trainer = Trainer(\n",
    "        model=model,\n",
    "        args=training_args,\n",
    "        train_dataset=train_data,\n",
    "        eval_dataset=eval_data,\n",
    "        compute_metrics=lambda p: {'accuracy': (p.predictions.argmax(-1) == p.label_ids).mean()},\n",
    "        callbacks=[logging_callback]  # 添加自定义回调\n",
    "    )\n",
    "\n",
    "    # 训练模型\n",
    "    trainer.train()\n",
    "\n",
    "    \n",
    "    # 绘制损失曲线\n",
    "    plt.figure(figsize=(12, 6))\n",
    "    plt.subplot(1, 2, 1)\n",
    "    plt.plot(logging_callback.train_losses, label='Training Loss')\n",
    "    plt.plot(logging_callback.eval_losses, label='Validation Loss')\n",
    "    plt.title('Training and Validation Loss')\n",
    "    plt.xlabel('per 1000 Step')\n",
    "    plt.ylabel('Loss')\n",
    "    plt.legend()\n",
    "\n",
    "    # 绘制准确率曲线\n",
    "    plt.subplot(1, 2, 2)\n",
    "    plt.plot(logging_callback.eval_accuracies, label='Validation Accuracy')\n",
    "    plt.title('Validation Accuracy')\n",
    "    plt.xlabel('Step')\n",
    "    plt.ylabel('Accuracy')\n",
    "    plt.legend()\n",
    "\n",
    "    plt.show()\n",
    "\n",
    "    # 评估模型并打印结果\n",
    "    eval_result = trainer.evaluate()\n",
    "    print(eval_result)\n",
    "\n",
    "\n",
    "train_and_evaluate(model, tokenizer, tokenized_datasets['train'], tokenized_datasets['test'])"
   ]
  },
  {
   "cell_type": "markdown",
   "metadata": {},
   "source": [
    "### 测试模型"
   ]
  },
  {
   "cell_type": "code",
   "execution_count": 5,
   "metadata": {},
   "outputs": [
    {
     "name": "stdout",
     "output_type": "stream",
     "text": [
      "Sentence: The movie was fantastic and I enjoyed every moment.\n",
      "Predicted Label: 1\n",
      "\n",
      "Sentence: I did not like the food at the restaurant.\n",
      "Predicted Label: 0\n",
      "\n",
      "Sentence: The book was boring and I could not finish it.\n",
      "Predicted Label: 0\n",
      "\n",
      "Sentence: The weather today is sunny and pleasant.\n",
      "Predicted Label: 1\n",
      "\n",
      "Sentence: I am not feeling well today.\n",
      "Predicted Label: 0\n",
      "\n",
      "Sentence: The team played really well and won the match.\n",
      "Predicted Label: 1\n",
      "\n",
      "Sentence: This is the worst product I have ever bought.\n",
      "Predicted Label: 0\n",
      "\n",
      "Sentence: The customer service was very helpful and polite.\n",
      "Predicted Label: 1\n",
      "\n",
      "Sentence: I am excited for the upcoming vacation.\n",
      "Predicted Label: 1\n",
      "\n",
      "Sentence: The traffic was terrible during rush hour.\n",
      "Predicted Label: 0\n",
      "\n"
     ]
    }
   ],
   "source": [
    "import torch\n",
    "model = BertForSequenceClassification.from_pretrained('./results/checkpoint-6000')  # 请替换为实际的checkpoint路径\n",
    "\n",
    "# 定义测试函数\n",
    "def predict_sentences(model, tokenizer, sentences):\n",
    "    inputs = tokenizer(sentences, padding=True, truncation=True, return_tensors=\"pt\")\n",
    "    model.eval()\n",
    "    with torch.no_grad():\n",
    "        outputs = model(**inputs)\n",
    "    logits = outputs.logits\n",
    "    predictions = torch.argmax(logits, dim=-1)\n",
    "    return predictions\n",
    "\n",
    "# 定义测试的句子\n",
    "test_sentences = [\n",
    "    \"The movie was fantastic and I enjoyed every moment.\",\n",
    "    \"I did not like the food at the restaurant.\",\n",
    "    \"The book was boring and I could not finish it.\",\n",
    "    \"The weather today is sunny and pleasant.\",\n",
    "    \"I am not feeling well today.\",\n",
    "    \"The team played really well and won the match.\",\n",
    "    \"This is the worst product I have ever bought.\",\n",
    "    \"The customer service was very helpful and polite.\",\n",
    "    \"I am excited for the upcoming vacation.\",\n",
    "    \"The traffic was terrible during rush hour.\"\n",
    "]\n",
    "\n",
    "# 使用模型进行预测\n",
    "predicted_labels = predict_sentences(model, tokenizer, test_sentences)\n",
    "\n",
    "# 打印预测结果\n",
    "for sentence, label in zip(test_sentences, predicted_labels):\n",
    "    print(f\"Sentence: {sentence}\\nPredicted Label: {label.item()}\\n\")"
   ]
  }
 ],
 "metadata": {
  "kernelspec": {
   "display_name": "Python 3",
   "language": "python",
   "name": "python3"
  },
  "language_info": {
   "codemirror_mode": {
    "name": "ipython",
    "version": 3
   },
   "file_extension": ".py",
   "mimetype": "text/x-python",
   "name": "python",
   "nbconvert_exporter": "python",
   "pygments_lexer": "ipython3",
   "version": "3.10.14"
  }
 },
 "nbformat": 4,
 "nbformat_minor": 2
}
