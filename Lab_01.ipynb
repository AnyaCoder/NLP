{
 "cells": [
  {
   "cell_type": "markdown",
   "source": [
    "### 步骤1: 编写贝叶斯二值分类器\n",
    "- 贝叶斯分类器基于贝叶斯定理，最常见的是朴素贝叶斯分类器。二值分类器是最简单的形式，只区分两个类别。\n",
    "- 语料地址： https://huggingface.co/datasets/dair-ai/emotion/tree/main/data"
   ],
   "metadata": {
    "collapsed": false
   },
   "id": "d7f1d83f08bde571"
  },
  {
   "cell_type": "code",
   "outputs": [
    {
     "name": "stdout",
     "output_type": "stream",
     "text": [
      "Validation Accuracy: 76.10%\n",
      "Test Accuracy: 76.40%\n"
     ]
    }
   ],
   "source": [
    "import numpy as np\n",
    "import pandas as pd\n",
    "from sklearn.feature_extraction.text import CountVectorizer\n",
    "from sklearn.preprocessing import LabelEncoder\n",
    "\n",
    "# 加载数据\n",
    "def load_data(filename):\n",
    "    return pd.read_csv(filename)\n",
    "\n",
    "train = load_data('train.csv')\n",
    "validation = load_data('validation.csv')\n",
    "test = load_data('test.csv')\n",
    "\n",
    "# 合并数据集进行词汇表构建\n",
    "full_data = pd.concat([train, validation, test])\n",
    "\n",
    "# 文本向量化\n",
    "vectorizer = CountVectorizer()\n",
    "X = vectorizer.fit_transform(full_data['text']).toarray()\n",
    "\n",
    "# 标签编码\n",
    "label_encoder = LabelEncoder()\n",
    "y = label_encoder.fit_transform(full_data['label'])\n",
    "\n",
    "# 分割数据集\n",
    "train_size = len(train)\n",
    "valid_size = len(validation)\n",
    "test_size = len(test)\n",
    "\n",
    "X_train = X[:train_size]\n",
    "y_train = y[:train_size]\n",
    "X_valid = X[train_size:train_size+valid_size]\n",
    "y_valid = y[train_size:train_size+valid_size]\n",
    "X_test = X[-test_size:]\n",
    "y_test = y[-test_size:]\n",
    "\n",
    "# 计算先验概率\n",
    "p_y = np.bincount(y_train) / float(len(y_train))\n",
    "\n",
    "# 计算条件概率\n",
    "p_xy = np.zeros((len(np.unique(y)), X_train.shape[1]))  # 类别数 × 词汇表大小\n",
    "for label in np.unique(y_train):\n",
    "    X_label = X_train[y_train == label]\n",
    "    p_xy[label, :] = (X_label.sum(axis=0) + 1) / (X_label.sum() + X_train.shape[1])  # 加上词汇表大小\n",
    "\n",
    "\n",
    "# 预测函数\n",
    "def predict(texts):\n",
    "    X_test = vectorizer.transform(texts).toarray()\n",
    "    log_p_xy = np.log(p_xy)  # 对数概率\n",
    "    log_p_y = np.log(p_y)  # 对数先验概率\n",
    "    log_p = X_test @ log_p_xy.T + log_p_y\n",
    "    return label_encoder.inverse_transform(np.argmax(log_p, axis=1))\n",
    "\n",
    "# 使用验证集评估模型\n",
    "predictions = predict(validation['text'])\n",
    "accuracy = np.mean(predictions == validation['label'])\n",
    "print(f\"Validation Accuracy: {accuracy * 100:.2f}%\")\n",
    "\n",
    "# 使用测试集评估模型\n",
    "predictions_test = predict(test['text'])\n",
    "accuracy_test = np.mean(predictions_test == test['label'])\n",
    "print(f\"Test Accuracy: {accuracy_test * 100:.2f}%\")\n"
   ],
   "metadata": {
    "collapsed": false,
    "ExecuteTime": {
     "end_time": "2024-04-27T14:52:42.537142400Z",
     "start_time": "2024-04-27T14:52:40.961242Z"
    }
   },
   "id": "c10e7545f5d1a0a",
   "execution_count": 5
  },
  {
   "cell_type": "code",
   "outputs": [
    {
     "name": "stdout",
     "output_type": "stream",
     "text": [
      "Validation Confusion Matrix:\n",
      "[[515  23   1   3   7   1]\n",
      " [ 29 665   5   4   0   1]\n",
      " [ 48  80  49   1   0   0]\n",
      " [ 60  38   0 174   3   0]\n",
      " [ 52  41   0   6 112   1]\n",
      " [ 36  28   0   1   9   7]]\n",
      "Validation Classification Report:\n",
      "              precision    recall  f1-score   support\n",
      "\n",
      "           0       0.70      0.94      0.80       550\n",
      "           1       0.76      0.94      0.84       704\n",
      "           2       0.89      0.28      0.42       178\n",
      "           3       0.92      0.63      0.75       275\n",
      "           4       0.85      0.53      0.65       212\n",
      "           5       0.70      0.09      0.15        81\n",
      "\n",
      "    accuracy                           0.76      2000\n",
      "   macro avg       0.80      0.57      0.60      2000\n",
      "weighted avg       0.78      0.76      0.73      2000\n",
      "\n",
      "Test Confusion Matrix:\n",
      "[[545  26   0   6   4   0]\n",
      " [ 17 669   5   1   2   1]\n",
      " [ 28  92  34   4   1   0]\n",
      " [ 66  41   0 161   7   0]\n",
      " [ 64  35   0   6 119   0]\n",
      " [ 22  30   0   1  13   0]]\n",
      "Test Classification Report:\n",
      "              precision    recall  f1-score   support\n",
      "\n",
      "           0       0.73      0.94      0.82       581\n",
      "           1       0.75      0.96      0.84       695\n",
      "           2       0.87      0.21      0.34       159\n",
      "           3       0.90      0.59      0.71       275\n",
      "           4       0.82      0.53      0.64       224\n",
      "           5       0.00      0.00      0.00        66\n",
      "\n",
      "    accuracy                           0.76      2000\n",
      "   macro avg       0.68      0.54      0.56      2000\n",
      "weighted avg       0.76      0.76      0.73      2000\n"
     ]
    }
   ],
   "source": [
    "from sklearn.metrics import confusion_matrix, classification_report\n",
    "\n",
    "# 使用验证集评估模型\n",
    "predictions = predict(validation['text'])\n",
    "print(\"Validation Confusion Matrix:\")\n",
    "print(confusion_matrix(validation['label'], predictions))\n",
    "print(\"Validation Classification Report:\")\n",
    "print(classification_report(validation['label'], predictions))\n",
    "\n",
    "# 使用测试集评估模型\n",
    "predictions_test = predict(test['text'])\n",
    "print(\"Test Confusion Matrix:\")\n",
    "print(confusion_matrix(test['label'], predictions_test))\n",
    "print(\"Test Classification Report:\")\n",
    "print(classification_report(test['label'], predictions_test))"
   ],
   "metadata": {
    "collapsed": false,
    "ExecuteTime": {
     "end_time": "2024-04-27T14:52:45.473554200Z",
     "start_time": "2024-04-27T14:52:45.178510200Z"
    }
   },
   "id": "89f99a3159eb0b82",
   "execution_count": 6
  },
  {
   "cell_type": "code",
   "outputs": [],
   "source": [],
   "metadata": {
    "collapsed": false
   },
   "id": "561de5b28c31dda3"
  }
 ],
 "metadata": {
  "kernelspec": {
   "display_name": "Python 3",
   "language": "python",
   "name": "python3"
  },
  "language_info": {
   "codemirror_mode": {
    "name": "ipython",
    "version": 2
   },
   "file_extension": ".py",
   "mimetype": "text/x-python",
   "name": "python",
   "nbconvert_exporter": "python",
   "pygments_lexer": "ipython2",
   "version": "2.7.6"
  }
 },
 "nbformat": 4,
 "nbformat_minor": 5
}
